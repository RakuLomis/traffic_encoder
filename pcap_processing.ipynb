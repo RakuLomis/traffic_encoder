{
 "cells": [
  {
   "cell_type": "code",
   "execution_count": 6,
   "metadata": {},
   "outputs": [],
   "source": [
    "import os \n",
    "from utils.pcap_tools import pcap_to_csv \n",
    "from tqdm import tqdm "
   ]
  },
  {
   "cell_type": "code",
   "execution_count": 7,
   "metadata": {},
   "outputs": [],
   "source": [
    "pcap_directory_01 = os.path.join('..', 'TrafficData', 'dataset_29_d1')\n",
    "output_directory_csv = os.path.join(pcap_directory_01 + '_csv')"
   ]
  },
  {
   "cell_type": "code",
   "execution_count": 4,
   "metadata": {},
   "outputs": [
    {
     "name": "stdout",
     "output_type": "stream",
     "text": [
      "目录存在: ..\\TrafficData\\dataset_29_d1\n",
      "目录下的文件夹名称:\n",
      "aimchat\n",
      "amazon\n",
      "baidu\n",
      "cloudmusic\n",
      "facebook\n",
      "gmail\n",
      "google\n",
      "itunes\n",
      "jd\n",
      "kugou\n",
      "MS-Exchange\n",
      "mssql\n",
      "netflix\n",
      "pplive\n",
      "qq\n",
      "sinauc\n",
      "skype\n",
      "sohu\n",
      "spotify\n",
      "taobao\n",
      "thunder\n",
      "tudou\n",
      "twitter\n",
      "vimeo\n",
      "voipbuster\n",
      "weibo\n",
      "yahoomail\n",
      "youku\n",
      "youtube\n"
     ]
    }
   ],
   "source": [
    "# 检查目录是否存在\n",
    "if os.path.exists(pcap_directory_01):\n",
    "    print(f\"Directory is existed: {pcap_directory_01}\")\n",
    "    \n",
    "    # 获取目录下的所有内容\n",
    "    items = os.listdir(pcap_directory_01)\n",
    "    \n",
    "    # 筛选文件夹名称\n",
    "    folders = [item for item in items if os.path.isdir(os.path.join(pcap_directory_01, item))]\n",
    "    \n",
    "    print(\"目录下的文件夹名称:\")\n",
    "    for folder in tqdm(folders):\n",
    "        pcap_folder = os.path.join(pcap_directory_01, folder) \n",
    "        output_folder = os.path.join(output_directory_csv, folder)\n",
    "        os.makedirs(output_folder, exist_ok=True) \n",
    "        pcap_to_csv(pcap_directory_01, output_directory_csv)\n",
    "else:\n",
    "    print(f\"目录不存在: {pcap_directory_01}\")"
   ]
  }
 ],
 "metadata": {
  "kernelspec": {
   "display_name": "Pytorch_env",
   "language": "python",
   "name": "python3"
  },
  "language_info": {
   "codemirror_mode": {
    "name": "ipython",
    "version": 3
   },
   "file_extension": ".py",
   "mimetype": "text/x-python",
   "name": "python",
   "nbconvert_exporter": "python",
   "pygments_lexer": "ipython3",
   "version": "3.12.8"
  }
 },
 "nbformat": 4,
 "nbformat_minor": 2
}
