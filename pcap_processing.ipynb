{
 "cells": [
  {
   "cell_type": "code",
   "execution_count": 1,
   "metadata": {},
   "outputs": [],
   "source": [
    "import os \n",
    "from utils.pcap_tools import pcap_to_csv \n",
    "from tqdm import tqdm \n",
    "from utils.dataframe_tools import merge_csvs_with_different_columns "
   ]
  },
  {
   "cell_type": "code",
   "execution_count": 2,
   "metadata": {},
   "outputs": [],
   "source": [
    "pcap_directory_01 = os.path.join('..', 'TrafficData', 'dataset_29_d1')\n",
    "csv_directory_merged = os.path.join('..', 'TrafficData', 'dataset_29_d1_csv_merged')\n",
    "csv_directory_merged_completed = os.path.join(csv_directory_merged, 'completeness')\n",
    "output_directory_csv = os.path.join(pcap_directory_01 + '_csv')\n",
    "completed_csv_path = os.path.join(csv_directory_merged_completed, 'dataset_29_completed_label.csv')"
   ]
  },
  {
   "cell_type": "code",
   "execution_count": 3,
   "metadata": {},
   "outputs": [
    {
     "name": "stderr",
     "output_type": "stream",
     "text": [
      "get_file_path: : 59it [00:00, ?it/s]\n"
     ]
    },
    {
     "name": "stdout",
     "output_type": "stream",
     "text": [
      "找到了 29 个待合并的CSV文件。\n"
     ]
    },
    {
     "name": "stderr",
     "output_type": "stream",
     "text": [
      "正在读取CSV文件: 100%|██████████| 29/29 [00:08<00:00,  3.47it/s]\n"
     ]
    },
    {
     "name": "stdout",
     "output_type": "stream",
     "text": [
      "\n",
      "正在合并所有数据...\n",
      "合并完成！\n",
      "正在将合并后的数据保存到: ..\\TrafficData\\dataset_29_d1_csv_merged\\completeness\\dataset_29_completed_label.csv\n",
      "\n",
      "处理完毕！\n",
      "最终合并文件的形状 (行, 列): (1304943, 239)\n",
      "总列数: 239\n"
     ]
    }
   ],
   "source": [
    "merge_csvs_with_different_columns(csv_directory_merged, completed_csv_path, postfix='_label.csv')"
   ]
  },
  {
   "cell_type": "code",
   "execution_count": 4,
   "metadata": {},
   "outputs": [
    {
     "name": "stdout",
     "output_type": "stream",
     "text": [
      "目录存在: ..\\TrafficData\\dataset_29_d1\n",
      "目录下的文件夹名称:\n",
      "aimchat\n",
      "amazon\n",
      "baidu\n",
      "cloudmusic\n",
      "facebook\n",
      "gmail\n",
      "google\n",
      "itunes\n",
      "jd\n",
      "kugou\n",
      "MS-Exchange\n",
      "mssql\n",
      "netflix\n",
      "pplive\n",
      "qq\n",
      "sinauc\n",
      "skype\n",
      "sohu\n",
      "spotify\n",
      "taobao\n",
      "thunder\n",
      "tudou\n",
      "twitter\n",
      "vimeo\n",
      "voipbuster\n",
      "weibo\n",
      "yahoomail\n",
      "youku\n",
      "youtube\n"
     ]
    }
   ],
   "source": [
    "# 检查目录是否存在\n",
    "if os.path.exists(pcap_directory_01):\n",
    "    print(f\"Directory is existed: {pcap_directory_01}\")\n",
    "    \n",
    "    # 获取目录下的所有内容\n",
    "    items = os.listdir(pcap_directory_01)\n",
    "    \n",
    "    # 筛选文件夹名称\n",
    "    folders = [item for item in items if os.path.isdir(os.path.join(pcap_directory_01, item))]\n",
    "    \n",
    "    print(\"目录下的文件夹名称:\")\n",
    "    for folder in tqdm(folders):\n",
    "        pcap_folder = os.path.join(pcap_directory_01, folder) \n",
    "        output_folder = os.path.join(output_directory_csv, folder)\n",
    "        os.makedirs(output_folder, exist_ok=True) \n",
    "        pcap_to_csv(pcap_directory_01, output_directory_csv)\n",
    "else:\n",
    "    print(f\"目录不存在: {pcap_directory_01}\")"
   ]
  }
 ],
 "metadata": {
  "kernelspec": {
   "display_name": "Pytorch_env",
   "language": "python",
   "name": "python3"
  },
  "language_info": {
   "codemirror_mode": {
    "name": "ipython",
    "version": 3
   },
   "file_extension": ".py",
   "mimetype": "text/x-python",
   "name": "python",
   "nbconvert_exporter": "python",
   "pygments_lexer": "ipython3",
   "version": "3.9.12"
  }
 },
 "nbformat": 4,
 "nbformat_minor": 2
}
