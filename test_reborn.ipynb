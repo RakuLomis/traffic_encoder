{
 "cells": [
  {
   "cell_type": "code",
   "execution_count": 1,
   "metadata": {},
   "outputs": [],
   "source": [
    "import pandas as pd\n",
    "import os \n",
    "from utils.dataframe_tools import truncate_to_block_by_schema \n",
    "from utils.pruning_and_merge import merge_field_blocks"
   ]
  },
  {
   "cell_type": "code",
   "execution_count": 2,
   "metadata": {},
   "outputs": [],
   "source": [
    "ori_csv_path = os.path.join('..', 'TrafficData', 'dataset_29_d1_csv_merged', 'completeness', 'dataset_29_completed_label.csv')\n",
    "output_dir_ori = os.path.join('..', 'TrafficData', 'dataset_29_d1_csv_merged', 'reborn_blocks_ori')\n",
    "output_dir_merge = os.path.join('..', 'TrafficData', 'dataset_29_d1_csv_merged', 'reborn_blocks_merge')"
   ]
  },
  {
   "cell_type": "code",
   "execution_count": 3,
   "metadata": {},
   "outputs": [
    {
     "name": "stdout",
     "output_type": "stream",
     "text": [
      "Data loading completed, 1304943 records here. \n",
      "Fingerprints has been built. \n",
      "There are 242 Field Block in total. \n"
     ]
    },
    {
     "name": "stderr",
     "output_type": "stream",
     "text": [
      "Saving blocks: 100%|██████████| 242/242 [00:13<00:00, 17.43it/s] \n"
     ]
    },
    {
     "name": "stdout",
     "output_type": "stream",
     "text": [
      "Truncation succeeded! \n"
     ]
    }
   ],
   "source": [
    "truncate_to_block_by_schema(ori_csv_path, output_dir_ori)"
   ]
  },
  {
   "cell_type": "code",
   "execution_count": 4,
   "metadata": {},
   "outputs": [
    {
     "name": "stdout",
     "output_type": "stream",
     "text": [
      "开始执行Field Block合并与剪枝流程...\n",
      "\n",
      "[步骤 1/5] 正在扫描并分析所有 242 个原始Block...\n"
     ]
    },
    {
     "name": "stderr",
     "output_type": "stream",
     "text": [
      "Scanning blocks: 100%|██████████| 242/242 [00:04<00:00, 56.78it/s] \n"
     ]
    },
    {
     "name": "stdout",
     "output_type": "stream",
     "text": [
      "\n",
      "[步骤 2/5] 识别完成:\n",
      " - 20 个核心专家 (样本数 >= 1000)\n",
      " - 222 个待合并的小型专家\n",
      "\n",
      "[步骤 3/5] 正在为小型专家寻找最佳合并目标...\n"
     ]
    },
    {
     "name": "stderr",
     "output_type": "stream",
     "text": [
      "Merging small blocks: 100%|██████████| 222/222 [00:00<00:00, 372.11it/s] \n"
     ]
    },
    {
     "name": "stdout",
     "output_type": "stream",
     "text": [
      "\n",
      "[步骤 4/5] 正在处理 156 个“孤儿”Block...\n",
      "\n",
      "[步骤 5/5] 正在保存 21 个最终的Block...\n"
     ]
    },
    {
     "name": "stderr",
     "output_type": "stream",
     "text": [
      "Saving final blocks: 100%|██████████| 21/21 [00:06<00:00,  3.15it/s]\n"
     ]
    },
    {
     "name": "stdout",
     "output_type": "stream",
     "text": [
      "\n",
      "合并与剪枝成功！最终生成了 21 个专家Block。\n",
      "合并日志已保存到: ..\\TrafficData\\dataset_29_d1_csv_merged\\reborn_blocks_merge\\merge_log.json\n"
     ]
    }
   ],
   "source": [
    "merge_field_blocks(output_dir_ori, output_dir_merge, jaccard_threshold=0.8)"
   ]
  }
 ],
 "metadata": {
  "kernelspec": {
   "display_name": "pytorch39",
   "language": "python",
   "name": "python3"
  },
  "language_info": {
   "codemirror_mode": {
    "name": "ipython",
    "version": 3
   },
   "file_extension": ".py",
   "mimetype": "text/x-python",
   "name": "python",
   "nbconvert_exporter": "python",
   "pygments_lexer": "ipython3",
   "version": "3.9.18"
  }
 },
 "nbformat": 4,
 "nbformat_minor": 2
}
