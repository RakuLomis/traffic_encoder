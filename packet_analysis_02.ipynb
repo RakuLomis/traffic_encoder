{
 "cells": [
  {
   "cell_type": "code",
   "execution_count": 1,
   "metadata": {},
   "outputs": [],
   "source": [
    "import pandas as pd \n"
   ]
  },
  {
   "cell_type": "code",
   "execution_count": 2,
   "metadata": {},
   "outputs": [],
   "source": [
    "data = pd.read_csv('./Data/Test/merge_tls_test_01/discrete/0.csv') "
   ]
  },
  {
   "cell_type": "code",
   "execution_count": 3,
   "metadata": {},
   "outputs": [],
   "source": [
    "dict_protocol_tree = {'eth': ['eth.dst', 'eth.src', 'eth.type'], \n",
    "                      'ip': ['ip.version', 'ip.hdr_len', 'ip.dsfield', 'ip.len', 'ip.id', 'ip.flags', 'ip.frag_offset', 'ip.ttl', 'ip.proto', 'ip.checksum', 'ip.src', 'ip.dst'], \n",
    "                      'tcp': ['tcp.srcport', 'tcp.dstport', 'tcp.stream', 'tcp.len', 'tcp.seq', 'tcp.seq_raw', 'tcp.ack', 'tcp.ack_raw', 'tcp.hdr_len', 'tcp.flags', 'tcp.window_size_value', 'tcp.window_size', 'tcp.checksum', 'tcp.urgent_pointer'], \n",
    "                      'tls': [], \n",
    "                      'statistics': ['frame_num', 'reassembled_segments'], \n",
    "                      'eth.dst': ['eth.dst.lg', 'eth.dst.ig'], \n",
    "                      'eth.src': ['eth.src.lg', 'eth.src.ig'], \n",
    "                      'ip.dsfield': ['ip.dsfield.dscp', 'ip.dsfield.ecn'], \n",
    "                      'ip.flags': ['ip.flags.rb', 'ip.flags.df', 'ip.flags.mf'], \n",
    "                      'tcp.flags': ['tcp.flags.res', 'tcp.flags.ae', 'tcp.flags.cwr', 'tcp.flags.ece', 'tcp.flags.urg', 'tcp.flags.ack', 'tcp.flags.push', 'tcp.flags.reset', 'tcp.flags.syn', 'tcp.flags.fin', 'tcp.flags.str']}\n",
    "physical_nodes = ['frame_num', 'eth.dst', 'eth.dst.lg', 'eth.dst.ig', 'eth.src', 'eth.src.lg', \n",
    "                  'eth.src.ig', 'eth.type', 'ip.version', 'ip.hdr_len', 'ip.dsfield', 'ip.dsfield.dscp', \n",
    "                  'ip.dsfield.ecn', 'ip.len', 'ip.id', 'ip.flags', 'ip.flags.rb', 'ip.flags.df', 'ip.flags.mf', \n",
    "                  'ip.frag_offset', 'ip.ttl', 'ip.proto', 'ip.checksum', 'ip.src', 'ip.dst', 'tcp.srcport', \n",
    "                  'tcp.dstport', 'tcp.stream', 'tcp.len', 'tcp.seq', 'tcp.seq_raw', 'tcp.ack', 'tcp.ack_raw', \n",
    "                  'tcp.hdr_len', 'tcp.flags', 'tcp.flags.res', 'tcp.flags.ae', 'tcp.flags.cwr', 'tcp.flags.ece', \n",
    "                  'tcp.flags.urg', 'tcp.flags.ack', 'tcp.flags.push', 'tcp.flags.reset', 'tcp.flags.syn', \n",
    "                  'tcp.flags.fin', 'tcp.flags.str', 'tcp.window_size_value', 'tcp.window_size', 'tcp.checksum', \n",
    "                  'tcp.urgent_pointer', 'reassembled_segments'] \n",
    "completed_tree = {'eth': ['eth.dst', 'eth.src', 'eth.type', 'eth.padding'], \n",
    "                  'ip': ['ip.version', 'ip.hdr_len', 'ip.dsfield', 'ip.len', 'ip.id', 'ip.flags', \n",
    "                         'ip.frag_offset', 'ip.ttl', 'ip.proto', 'ip.checksum', 'ip.src', 'ip.dst'], \n",
    "                'tcp': ['tcp.srcport', 'tcp.dstport', 'tcp.stream', 'tcp.len', 'tcp.seq', 'tcp.seq_raw', \n",
    "                 'tcp.ack', 'tcp.ack_raw', 'tcp.hdr_len', 'tcp.flags', 'tcp.window_size_value', \n",
    "                 'tcp.window_size', 'tcp.window_size_scalefactor', 'tcp.checksum', 'tcp.urgent_pointer', \n",
    "                 'tcp.options', 'tcp.option_kind', 'tcp.option_len'], \n",
    "                'tls': ['tls.record', 'tls.handshake', 'tls.extension', 'tls.ech', \n",
    "                         'tls.compress_certificate', 'tls.x509af', 'tls.x509if', 'tls.x509sat', \n",
    "                         'tls.pkcs1', 'tls.ber', 'tls.x509ce', 'tls.pkix1implicit', 'tls.sct'], \n",
    "                         'statistics': ['frame_num', 'reassembled_segments'], \n",
    "              'eth.dst': ['eth.dst.lg', 'eth.dst.ig'], 'eth.src': ['eth.src.lg', 'eth.src.ig'], 'ip.dsfield': ['ip.dsfield.dscp', 'ip.dsfield.ecn'], 'ip.flags': ['ip.flags.rb', 'ip.flags.df', 'ip.flags.mf'], 'tcp.flags': ['tcp.flags.res', 'tcp.flags.ae', 'tcp.flags.cwr', 'tcp.flags.ece', 'tcp.flags.urg', 'tcp.flags.ack', 'tcp.flags.push', 'tcp.flags.reset', 'tcp.flags.syn', 'tcp.flags.fin', 'tcp.flags.str'], 'tcp.options': ['tcp.options.nop', 'tcp.options.timestamp', 'tcp.options.mss', 'tcp.options.mss_val', 'tcp.options.wscale', 'tcp.options.sack_perm', 'tcp.options.sack', 'tcp.options.sack_le', 'tcp.options.sack_re'], 'tls.record': ['tls.record.content_type', 'tls.record.version', 'tls.record.length', 'tls.record.opaque_type'], 'tls.handshake': ['tls.handshake.type', 'tls.handshake.length', 'tls.handshake.version', 'tls.handshake.random_time', 'tls.handshake.random_bytes', 'tls.handshake.session_id_length', 'tls.handshake.cipher_suites_length', 'tls.handshake.ciphersuite', 'tls.handshake.comp_methods_length', 'tls.handshake.comp_method', 'tls.handshake.extensions_length', 'tls.handshake.extension', 'tls.handshake.extensions_ec_point_formats_length', 'tls.handshake.extensions_ec_point_format', 'tls.handshake.extensions_server_name_list_len', 'tls.handshake.extensions_server_name_type', 'tls.handshake.extensions_server_name_len', 'tls.handshake.extensions_server_name', 'tls.handshake.extensions_reneg_info_len', 'tls.handshake.extensions', 'tls.handshake.extensions_key_share_client_length', 'tls.handshake.extensions_key_share_group', 'tls.handshake.extensions_key_share_key_exchange_length', 'tls.handshake.extensions_key_share_key_exchange', 'tls.handshake.extensions_status_request_type', 'tls.handshake.extensions_status_request_responder_ids_len', 'tls.handshake.extensions_status_request_exts_len', 'tls.handshake.extensions_alpn_len', 'tls.handshake.extensions_alpn_str_len', 'tls.handshake.extensions_alpn_str', 'tls.handshake.sig_hash_alg_len', 'tls.handshake.sig_hash_alg', 'tls.handshake.sig_hash_hash', 'tls.handshake.sig_hash_sig', 'tls.handshake.extensions_supported_groups_length', 'tls.handshake.extensions_supported_group', 'tls.handshake.certificates_length', 'tls.handshake.certificate_length', 'tls.handshake.server_curve_type', 'tls.handshake.server_named_curve', 'tls.handshake.server_point_len', 'tls.handshake.sig_len', 'tls.handshake.client_point_len', 'tls.handshake.session_ticket_lifetime_hint', 'tls.handshake.session_ticket_length'], 'tls.extension': ['tls.extension.psk_ke_modes_length', 'tls.extension.psk_ke_mode'], 'tls.ech': ['tls.ech.client_hello_type', 'tls.ech.hpke', 'tls.ech.config_id', 'tls.ech.enc_length', 'tls.ech.payload_length'], 'tls.compress_certificate': ['tls.compress_certificate.algorithms_length', 'tls.compress_certificate.algorithm'], 'tls.x509af': ['tls.x509af.version', 'tls.x509af.serialNumber', 'tls.x509af.algorithm', 'tls.x509af.notBefore', 'tls.x509af.utcTime', 'tls.x509af.notAfter', 'tls.x509af.extension', 'tls.x509af.critical'], 'tls.x509if': ['tls.x509if.RDNSequence_item', 'tls.x509if.oid'], 'tls.x509sat': ['tls.x509sat.CountryName', 'tls.x509sat.DirectoryString', 'tls.x509sat.printableString'], 'tls.pkcs1': ['tls.pkcs1.publicExponent'], 'tls.ber': ['tls.ber.bitstring'], 'tls.x509ce': ['tls.x509ce.KeyUsage', 'tls.x509ce.policyIdentifier', 'tls.x509ce.id', 'tls.x509ce.dNSName', 'tls.x509ce.KeyPurposeIDs', 'tls.x509ce.KeyPurposeId', 'tls.x509ce.keyIdentifier', 'tls.x509ce.SubjectKeyIdentifier', 'tls.x509ce.cA', 'tls.x509ce.pathLenConstraint'], 'tls.pkix1implicit': ['tls.pkix1implicit.accessMethod'], 'tls.sct': ['tls.sct.scts_length', 'tls.sct.sct_length', 'tls.sct.sct_version', 'tls.sct.sct_timestamp', 'tls.sct.sct_extensions_length', 'tls.sct.sct_signature_length'], 'tcp.options.timestamp': ['tcp.options.timestamp.tsval', 'tcp.options.timestamp.tsecr'], 'tcp.options.wscale': ['tcp.options.wscale.shift', 'tcp.options.wscale.multiplier'], 'tls.handshake.extension': ['tls.handshake.extension.type', 'tls.handshake.extension.len'], 'tls.handshake.extensions': ['tls.handshake.extensions.supported_versions_len', 'tls.handshake.extensions.supported_version'], 'tls.ech.hpke': ['tls.ech.hpke.keyconfig'], 'tls.x509af.algorithm': ['tls.x509af.algorithm.id'], 'tls.x509af.extension': ['tls.x509af.extension.id'], 'tls.ber.bitstring': ['tls.ber.bitstring.padding'], 'tls.x509ce.KeyUsage': ['tls.x509ce.KeyUsage.digitalSignature', 'tls.x509ce.KeyUsage.contentCommitment', 'tls.x509ce.KeyUsage.keyEncipherment', 'tls.x509ce.KeyUsage.dataEncipherment', 'tls.x509ce.KeyUsage.keyAgreement', 'tls.x509ce.KeyUsage.keyCertSign', 'tls.x509ce.KeyUsage.cRLSign', 'tls.x509ce.KeyUsage.encipherOnly', 'tls.x509ce.KeyUsage.decipherOnly'], 'tcp.options.sack': ['tcp.options.sack.dsack_le', 'tcp.options.sack.dsack_re'], 'tls.ech.hpke.keyconfig': ['tls.ech.hpke.keyconfig.cipher_suite'], 'tls.ech.hpke.keyconfig.cipher_suite': ['tls.ech.hpke.keyconfig.cipher_suite.kdf_id', 'tls.ech.hpke.keyconfig.cipher_suite.aead_id']}\n",
    "completed_physical_nodes = ['frame_num', 'eth.dst', 'eth.dst.lg', 'eth.dst.ig', 'eth.src', 'eth.src.lg', 'eth.src.ig', 'eth.type', 'ip.version', 'ip.hdr_len', 'ip.dsfield', 'ip.dsfield.dscp', 'ip.dsfield.ecn', 'ip.len', 'ip.id', 'ip.flags', 'ip.flags.rb', 'ip.flags.df', 'ip.flags.mf', 'ip.frag_offset', 'ip.ttl', 'ip.proto', 'ip.checksum', 'ip.src', 'ip.dst', 'tcp.srcport', 'tcp.dstport', 'tcp.stream', 'tcp.len', 'tcp.seq', 'tcp.seq_raw', 'tcp.ack', 'tcp.ack_raw', 'tcp.hdr_len', 'tcp.flags', 'tcp.flags.res', 'tcp.flags.ae', 'tcp.flags.cwr', 'tcp.flags.ece', 'tcp.flags.urg', 'tcp.flags.ack', 'tcp.flags.push', 'tcp.flags.reset', 'tcp.flags.syn', 'tcp.flags.fin', 'tcp.flags.str', 'tcp.window_size_value', 'tcp.window_size', 'tcp.window_size_scalefactor', 'tcp.checksum', 'tcp.urgent_pointer', 'tcp.options', 'tcp.options.nop', 'tcp.option_kind', 'tcp.options.timestamp', 'tcp.option_len', 'tcp.options.timestamp.tsval', 'tcp.options.timestamp.tsecr', 'tcp.options.mss', 'tcp.options.mss_val', 'tcp.options.wscale', 'tcp.options.wscale.shift', 'tcp.options.wscale.multiplier', 'tcp.options.sack_perm', 'tls.record.content_type', 'tls.record.version', 'tls.record.length', 'tls.handshake.type', 'tls.handshake.length', 'tls.handshake.version', 'tls.handshake.random_time', 'tls.handshake.random_bytes', 'tls.handshake.session_id_length', 'tls.handshake.cipher_suites_length', 'tls.handshake.ciphersuite', 'tls.handshake.comp_methods_length', 'tls.handshake.comp_method', 'tls.handshake.extensions_length', 'tls.handshake.extension.type', 'tls.handshake.extension.len', 'tls.handshake.extensions_ec_point_formats_length', 'tls.handshake.extensions_ec_point_format', 'tls.handshake.extensions_server_name_list_len', 'tls.handshake.extensions_server_name_type', 'tls.handshake.extensions_server_name_len', 'tls.handshake.extensions_server_name', 'tls.handshake.extensions_reneg_info_len', 'tls.handshake.extensions.supported_versions_len', 'tls.handshake.extensions.supported_version', 'tls.extension.psk_ke_modes_length', 'tls.extension.psk_ke_mode', 'tls.handshake.extensions_key_share_client_length', 'tls.handshake.extensions_key_share_group', 'tls.handshake.extensions_key_share_key_exchange_length', 'tls.handshake.extensions_key_share_key_exchange', 'tls.ech.client_hello_type', 'tls.ech.hpke.keyconfig.cipher_suite.kdf_id', 'tls.ech.hpke.keyconfig.cipher_suite.aead_id', 'tls.ech.config_id', 'tls.ech.enc_length', 'tls.ech.payload_length', 'tls.handshake.extensions_status_request_type', 'tls.handshake.extensions_status_request_responder_ids_len', 'tls.handshake.extensions_status_request_exts_len', 'tls.compress_certificate.algorithms_length', 'tls.compress_certificate.algorithm', 'tls.handshake.extensions_alpn_len', 'tls.handshake.extensions_alpn_str_len', 'tls.handshake.extensions_alpn_str', 'tls.handshake.sig_hash_alg_len', 'tls.handshake.sig_hash_alg', 'tls.handshake.sig_hash_hash', 'tls.handshake.sig_hash_sig', 'tls.handshake.extensions_supported_groups_length', 'tls.handshake.extensions_supported_group', 'tls.record.opaque_type', 'tcp.options.sack', 'tcp.options.sack_le', 'tcp.options.sack_re', 'tls.handshake.certificates_length', 'tls.handshake.certificate_length', 'tls.x509af.version', 'tls.x509af.serialNumber', 'tls.x509af.algorithm.id', 'tls.x509if.RDNSequence_item', 'tls.x509if.oid', 'tls.x509sat.CountryName', 'tls.x509sat.DirectoryString', 'tls.x509sat.printableString', 'tls.x509af.notBefore', 'tls.x509af.utcTime', 'tls.x509af.notAfter', 'tls.pkcs1.publicExponent', 'tls.x509af.extension.id', 'tls.x509af.critical', 'tls.ber.bitstring.padding', 'tls.x509ce.KeyUsage', 'tls.x509ce.KeyUsage.digitalSignature', 'tls.x509ce.KeyUsage.contentCommitment', 'tls.x509ce.KeyUsage.keyEncipherment', 'tls.x509ce.KeyUsage.dataEncipherment', 'tls.x509ce.KeyUsage.keyAgreement', 'tls.x509ce.KeyUsage.keyCertSign', 'tls.x509ce.KeyUsage.cRLSign', 'tls.x509ce.KeyUsage.encipherOnly', 'tls.x509ce.KeyUsage.decipherOnly', 'tls.pkix1implicit.accessMethod', 'tls.x509ce.policyIdentifier', 'tls.x509ce.id', 'tls.x509ce.dNSName', 'tls.x509ce.KeyPurposeIDs', 'tls.x509ce.KeyPurposeId', 'tls.x509ce.keyIdentifier', 'tls.x509ce.SubjectKeyIdentifier', 'tls.sct.scts_length', 'tls.sct.sct_length', 'tls.sct.sct_version', 'tls.sct.sct_timestamp', 'tls.sct.sct_extensions_length', 'tls.sct.sct_signature_length', 'tls.x509ce.cA', 'tls.x509ce.pathLenConstraint', 'tls.handshake.server_curve_type', 'tls.handshake.server_named_curve', 'tls.handshake.server_point_len', 'tls.handshake.sig_len', 'tls.handshake.client_point_len', 'tcp.options.sack.dsack_le', 'tcp.options.sack.dsack_re', 'tls.handshake.session_ticket_lifetime_hint', 'tls.handshake.session_ticket_length', 'eth.padding', 'reassembled_segments'] \n",
    " \n"
   ]
  },
  {
   "cell_type": "code",
   "execution_count": 11,
   "metadata": {},
   "outputs": [
    {
     "name": "stdout",
     "output_type": "stream",
     "text": [
      "[{'field': 'tcp.flags', 'subfields': ['tcp.flags.res', 'tcp.flags.ae', 'tcp.flags.cwr', 'tcp.flags.ece', 'tcp.flags.urg', 'tcp.flags.ack', 'tcp.flags.push', 'tcp.flags.reset', 'tcp.flags.syn', 'tcp.flags.fin', 'tcp.flags.str'], 'is_logical': False}, {'field': 'tcp.options', 'subfields': ['tcp.options.nop', 'tcp.options.timestamp', 'tcp.options.mss', 'tcp.options.mss_val', 'tcp.options.wscale', 'tcp.options.sack_perm', 'tcp.options.sack', 'tcp.options.sack_le', 'tcp.options.sack_re'], 'is_logical': False}]\n",
      "['tcp.srcport', 'tcp.dstport', 'tcp.stream', 'tcp.len', 'tcp.seq', 'tcp.seq_raw', 'tcp.ack', 'tcp.ack_raw', 'tcp.hdr_len', 'tcp.window_size_value', 'tcp.window_size', 'tcp.window_size_scalefactor', 'tcp.checksum', 'tcp.urgent_pointer', 'tcp.option_kind', 'tcp.option_len']\n",
      "[{'field': 'tls.record', 'subfields': ['tls.record.content_type', 'tls.record.version', 'tls.record.length', 'tls.record.opaque_type'], 'is_logical': True}, {'field': 'tls.handshake', 'subfields': ['tls.handshake.type', 'tls.handshake.length', 'tls.handshake.version', 'tls.handshake.random_time', 'tls.handshake.random_bytes', 'tls.handshake.session_id_length', 'tls.handshake.cipher_suites_length', 'tls.handshake.ciphersuite', 'tls.handshake.comp_methods_length', 'tls.handshake.comp_method', 'tls.handshake.extensions_length', 'tls.handshake.extensions_ec_point_formats_length', 'tls.handshake.extensions_ec_point_format', 'tls.handshake.extensions_server_name_list_len', 'tls.handshake.extensions_server_name_type', 'tls.handshake.extensions_server_name_len', 'tls.handshake.extensions_server_name', 'tls.handshake.extensions_reneg_info_len', 'tls.handshake.extensions_key_share_client_length', 'tls.handshake.extensions_key_share_group', 'tls.handshake.extensions_key_share_key_exchange_length', 'tls.handshake.extensions_key_share_key_exchange', 'tls.handshake.extensions_status_request_type', 'tls.handshake.extensions_status_request_responder_ids_len', 'tls.handshake.extensions_status_request_exts_len', 'tls.handshake.extensions_alpn_len', 'tls.handshake.extensions_alpn_str_len', 'tls.handshake.extensions_alpn_str', 'tls.handshake.sig_hash_alg_len', 'tls.handshake.sig_hash_alg', 'tls.handshake.sig_hash_hash', 'tls.handshake.sig_hash_sig', 'tls.handshake.extensions_supported_groups_length', 'tls.handshake.extensions_supported_group', 'tls.handshake.certificates_length', 'tls.handshake.certificate_length', 'tls.handshake.server_curve_type', 'tls.handshake.server_named_curve', 'tls.handshake.server_point_len', 'tls.handshake.sig_len', 'tls.handshake.client_point_len', 'tls.handshake.session_ticket_lifetime_hint', 'tls.handshake.session_ticket_length'], 'is_logical': True}, {'field': 'tls.extension', 'subfields': ['tls.extension.psk_ke_modes_length', 'tls.extension.psk_ke_mode'], 'is_logical': True}, {'field': 'tls.ech', 'subfields': ['tls.ech.client_hello_type', 'tls.ech.config_id', 'tls.ech.enc_length', 'tls.ech.payload_length'], 'is_logical': True}, {'field': 'tls.compress_certificate', 'subfields': ['tls.compress_certificate.algorithms_length', 'tls.compress_certificate.algorithm'], 'is_logical': True}, {'field': 'tls.x509af', 'subfields': ['tls.x509af.version', 'tls.x509af.serialNumber', 'tls.x509af.notBefore', 'tls.x509af.utcTime', 'tls.x509af.notAfter', 'tls.x509af.critical'], 'is_logical': True}, {'field': 'tls.x509if', 'subfields': ['tls.x509if.RDNSequence_item', 'tls.x509if.oid'], 'is_logical': True}, {'field': 'tls.x509sat', 'subfields': ['tls.x509sat.CountryName', 'tls.x509sat.DirectoryString', 'tls.x509sat.printableString'], 'is_logical': True}, {'field': 'tls.pkcs1', 'subfields': ['tls.pkcs1.publicExponent'], 'is_logical': True}, {'field': 'tls.ber', 'subfields': [], 'is_logical': True}, {'field': 'tls.x509ce', 'subfields': ['tls.x509ce.KeyUsage', 'tls.x509ce.policyIdentifier', 'tls.x509ce.id', 'tls.x509ce.dNSName', 'tls.x509ce.KeyPurposeIDs', 'tls.x509ce.KeyPurposeId', 'tls.x509ce.keyIdentifier', 'tls.x509ce.SubjectKeyIdentifier', 'tls.x509ce.cA', 'tls.x509ce.pathLenConstraint'], 'is_logical': True}, {'field': 'tls.pkix1implicit', 'subfields': ['tls.pkix1implicit.accessMethod'], 'is_logical': True}, {'field': 'tls.sct', 'subfields': ['tls.sct.scts_length', 'tls.sct.sct_length', 'tls.sct.sct_version', 'tls.sct.sct_timestamp', 'tls.sct.sct_extensions_length', 'tls.sct.sct_signature_length'], 'is_logical': True}]\n",
      "[]\n"
     ]
    }
   ],
   "source": [
    "def protocol_tree(protocol, dict_protocol_tree, physical_nodes): \n",
    "    list_fields_subfields = [\n",
    "        # 'field1': ['subfield1', 'subfield2', ...], \n",
    "        # 'field2': ['subfield1', 'subfield2', ...], \n",
    "        # ...\n",
    "    ] \n",
    "    list_fields_no_subfields = [] \n",
    "    for field in dict_protocol_tree[protocol]: \n",
    "        if field in physical_nodes: \n",
    "            # if dict_protocol_tree[field] does not exist, add to list_fields_no_subfields\n",
    "            if field not in dict_protocol_tree: # field does not have subfields\n",
    "                list_fields_no_subfields.append(field) \n",
    "            else: \n",
    "                # list_fields_subfields.append({\n",
    "                #     'field': field, \n",
    "                #     'subfields': dict_protocol_tree[field]\n",
    "                # }) \n",
    "                temp_list = []\n",
    "                for subfield in dict_protocol_tree[field]: # exmaine subfields exist physically or not\n",
    "                    if subfield in physical_nodes: \n",
    "                        temp_list.append(subfield) \n",
    "                list_fields_subfields.append({\n",
    "                    'field': field, \n",
    "                    'subfields': temp_list, \n",
    "                    'is_logical': False\n",
    "                }) \n",
    "        else: # tls.handshake and tls.record are all logical nodes \n",
    "            temp_list = []\n",
    "            for subfield in dict_protocol_tree[field]: \n",
    "                if subfield in physical_nodes: \n",
    "                    temp_list.append(subfield) \n",
    "            list_fields_subfields.append({\n",
    "                    'field': field, \n",
    "                    'subfields': temp_list, \n",
    "                    'is_logical': True\n",
    "                }) \n",
    "    return list_fields_subfields, list_fields_no_subfields \n",
    "\n",
    "# test \n",
    "list1, list2 = protocol_tree('tcp', completed_tree, completed_physical_nodes) \n",
    "print(list1)\n",
    "print(list2)\n",
    "\n",
    "list3, list4 = protocol_tree('tls', completed_tree, completed_physical_nodes) \n",
    "print(list3)\n",
    "print(list4)\n",
    "\n",
    "\n"
   ]
  },
  {
   "cell_type": "code",
   "execution_count": null,
   "metadata": {},
   "outputs": [],
   "source": [
    "protocols = ['eth', 'ip', 'tcp', 'tls'] \n",
    "\n",
    "for protocol in protocols: \n"
   ]
  },
  {
   "cell_type": "code",
   "execution_count": 4,
   "metadata": {},
   "outputs": [
    {
     "name": "stdout",
     "output_type": "stream",
     "text": [
      "Fields: ['tcp.srcport', 'tcp.dstport', 'tcp.stream', 'tcp.len', 'tcp.seq', 'tcp.seq_raw', 'tcp.ack', 'tcp.ack_raw', 'tcp.hdr_len', 'tcp.flags', 'tcp.window_size_value', 'tcp.window_size', 'tcp.checksum', 'tcp.urgent_pointer']\n",
      "Subfields:\n",
      "  tcp.srcport: []\n",
      "  tcp.dstport: []\n",
      "  tcp.stream: []\n",
      "  tcp.len: []\n",
      "  tcp.seq: []\n",
      "  tcp.seq_raw: []\n",
      "  tcp.ack: []\n",
      "  tcp.ack_raw: []\n",
      "  tcp.hdr_len: []\n",
      "  tcp.flags: ['tcp.flags.res', 'tcp.flags.ae', 'tcp.flags.cwr', 'tcp.flags.ece', 'tcp.flags.urg', 'tcp.flags.ack', 'tcp.flags.push', 'tcp.flags.reset', 'tcp.flags.syn', 'tcp.flags.fin', 'tcp.flags.str']\n",
      "  tcp.window_size_value: []\n",
      "  tcp.window_size: []\n",
      "  tcp.checksum: []\n",
      "  tcp.urgent_pointer: []\n"
     ]
    }
   ],
   "source": [
    "def extract_fields_and_subfields(tree, protocol):\n",
    "    \"\"\"\n",
    "    提取某协议的所有field和subfield\n",
    "    :param tree: 协议树字典\n",
    "    :param protocol: 协议名（如'eth', 'ip', 'tcp'）\n",
    "    :return: fields, subfields_dict\n",
    "        fields: 直接子节点（field）列表\n",
    "        subfields_dict: {field: [subfield1, subfield2, ...]}，每个field下的所有subfield（递归）\n",
    "    \"\"\"\n",
    "    fields = tree.get(protocol, [])\n",
    "    subfields_dict = {}\n",
    "\n",
    "    def get_all_subfields(field):\n",
    "        \"\"\"递归获取所有subfield\"\"\"\n",
    "        subfields = []\n",
    "        for sub in tree.get(field, []):\n",
    "            subfields.append(sub)\n",
    "            subfields.extend(get_all_subfields(sub))\n",
    "        return subfields\n",
    "\n",
    "    for field in fields:\n",
    "        subfields_dict[field] = get_all_subfields(field)\n",
    "\n",
    "    return fields, subfields_dict\n",
    "\n",
    "# 示例用法\n",
    "fields, subfields_dict = extract_fields_and_subfields(dict_protocol_tree, 'tcp')\n",
    "print(\"Fields:\", fields)\n",
    "print(\"Subfields:\")\n",
    "for f, sfs in subfields_dict.items():\n",
    "    print(f\"  {f}: {sfs}\")"
   ]
  },
  {
   "cell_type": "code",
   "execution_count": 3,
   "metadata": {},
   "outputs": [],
   "source": []
  },
  {
   "cell_type": "code",
   "execution_count": null,
   "metadata": {},
   "outputs": [],
   "source": []
  }
 ],
 "metadata": {
  "kernelspec": {
   "display_name": "Pytorch_envs",
   "language": "python",
   "name": "python3"
  },
  "language_info": {
   "codemirror_mode": {
    "name": "ipython",
    "version": 3
   },
   "file_extension": ".py",
   "mimetype": "text/x-python",
   "name": "python",
   "nbconvert_exporter": "python",
   "pygments_lexer": "ipython3",
   "version": "3.9.12"
  }
 },
 "nbformat": 4,
 "nbformat_minor": 2
}
