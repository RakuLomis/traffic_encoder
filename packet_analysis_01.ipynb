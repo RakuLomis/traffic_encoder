{
 "cells": [
  {
   "cell_type": "code",
   "execution_count": 1,
   "metadata": {},
   "outputs": [],
   "source": [
    "import pandas as pd\n",
    "import numpy as np \n",
    "import os "
   ]
  },
  {
   "cell_type": "code",
   "execution_count": 2,
   "metadata": {},
   "outputs": [],
   "source": [
    "path_test_directory = './Data/Test/fill_nan' \n",
    "# path_tls_csv = os.path.join(path_test_directory, 'tls_test_01.pcapng.csv') \n",
    "# path_tls_reassemble_csv = os.path.join(path_test_directory, 'reassemble_tls_test_01.pcapng.csv') \n",
    "path_test_csv = os.path.join(path_test_directory, 'fill_nan_merge_tls_test_01.csv') "
   ]
  },
  {
   "cell_type": "code",
   "execution_count": 3,
   "metadata": {},
   "outputs": [
    {
     "data": {
      "text/plain": [
       "(1983, 264)"
      ]
     },
     "execution_count": 3,
     "metadata": {},
     "output_type": "execute_result"
    }
   ],
   "source": [
    "df = pd.read_csv(path_test_csv, index_col='index') \n",
    "df.shape "
   ]
  },
  {
   "cell_type": "code",
   "execution_count": 5,
   "metadata": {},
   "outputs": [],
   "source": []
  },
  {
   "cell_type": "code",
   "execution_count": 8,
   "metadata": {},
   "outputs": [],
   "source": [
    "def list_to_integer_code(df: pd.DataFrame, col_name = 'reassembled_segments'): \n",
    "    \"\"\"\n",
    "    Turn the specific column into the integer code for convenience. \n",
    "\n",
    "    Returns\n",
    "    -------\n",
    "    value_to_code: dict\n",
    "        {(): 0, (1, 2): 1, ...} \n",
    "    \"\"\"\n",
    "    value_to_code = {} \n",
    "    code = 0 \n",
    "    for value in df[col_name]: \n",
    "        if value == '[]': # '[]' represents no reassembled segments\n",
    "            value_to_code[value] = -1 \n",
    "        if value not in value_to_code: \n",
    "            value_to_code[value] = code \n",
    "            code += 1 \n",
    "    return value_to_code "
   ]
  },
  {
   "cell_type": "code",
   "execution_count": 9,
   "metadata": {},
   "outputs": [],
   "source": [
    "list_to_integer = list_to_integer_code(df_merge) \n",
    "# print(list_to_integer)"
   ]
  },
  {
   "cell_type": "code",
   "execution_count": 16,
   "metadata": {},
   "outputs": [],
   "source": [
    "df_merge['reassembled_segments'] = df_merge['reassembled_segments'].apply(lambda x: list_to_integer[x]) "
   ]
  },
  {
   "cell_type": "code",
   "execution_count": null,
   "metadata": {},
   "outputs": [],
   "source": [
    "\"\"\"\n",
    "Fill NaN with the special code 'ffff'. \n",
    "\"\"\"\n",
    "df_merge_filled = df_merge.fillna('ffff') "
   ]
  },
  {
   "cell_type": "code",
   "execution_count": null,
   "metadata": {},
   "outputs": [],
   "source": []
  },
  {
   "cell_type": "code",
   "execution_count": 12,
   "metadata": {},
   "outputs": [],
   "source": [
    "unique = df_merge_not_nan.apply(lambda x: x.unique())"
   ]
  },
  {
   "cell_type": "code",
   "execution_count": 17,
   "metadata": {},
   "outputs": [
    {
     "name": "stdout",
     "output_type": "stream",
     "text": [
      "['3634' '8eb4' '0000' ... '48da' '98e9' '48db']\n"
     ]
    }
   ],
   "source": [
    "print(unique['ip_id'])"
   ]
  },
  {
   "cell_type": "code",
   "execution_count": 16,
   "metadata": {},
   "outputs": [],
   "source": [
    "for idx in unique.index: \n",
    "    arr = unique[idx].copy() \n",
    "    arr[np.isnan(arr)] = -1 \n",
    "    unique[idx] = arr "
   ]
  },
  {
   "cell_type": "code",
   "execution_count": 7,
   "metadata": {},
   "outputs": [],
   "source": [
    "df_merge_tls.to_csv(os.path.join(path_test_directory, \"merge_tls_test.csv\")) "
   ]
  }
 ],
 "metadata": {
  "kernelspec": {
   "display_name": "Pytorch_envs",
   "language": "python",
   "name": "python3"
  },
  "language_info": {
   "codemirror_mode": {
    "name": "ipython",
    "version": 3
   },
   "file_extension": ".py",
   "mimetype": "text/x-python",
   "name": "python",
   "nbconvert_exporter": "python",
   "pygments_lexer": "ipython3",
   "version": "3.9.12"
  }
 },
 "nbformat": 4,
 "nbformat_minor": 2
}
