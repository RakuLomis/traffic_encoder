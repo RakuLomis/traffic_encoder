{
 "cells": [
  {
   "cell_type": "code",
   "execution_count": 1,
   "metadata": {},
   "outputs": [],
   "source": [
    "import pandas as pd\n",
    "import numpy as np\n",
    "import os \n",
    "from utils.dataframe_tools import filter_out_nan "
   ]
  },
  {
   "cell_type": "code",
   "execution_count": 45,
   "metadata": {},
   "outputs": [],
   "source": [
    "df = pd.read_csv('./Data/Test/merge_tls_test_01.csv') \n",
    "df_block = pd.read_csv('./Data/Test/merge_tls_test_01/discrete/0.csv')"
   ]
  },
  {
   "cell_type": "code",
   "execution_count": 46,
   "metadata": {},
   "outputs": [],
   "source": [
    "list_col = df.columns.tolist()\n",
    "list_col_block = df_block.columns.tolist()"
   ]
  },
  {
   "cell_type": "code",
   "execution_count": 9,
   "metadata": {},
   "outputs": [],
   "source": [
    "def find_fields_by_prefix(layers: list, layer_prefixes: dict, fields: list, len_prefix: int, init: bool): \n",
    "    next_layers = []\n",
    "    if len(layers) > 0: \n",
    "        if init: \n",
    "            for field in fields: \n",
    "                prefix = field.split('.')[0] \n",
    "                if prefix not in layers and len(field.split('.')) - len_prefix == 0: \n",
    "                    layer_prefixes['statistics'].append(field) \n",
    "                elif field.startswith(prefix) and len(field.split('.')) - len_prefix == 1: \n",
    "                    layer_prefixes[prefix].append(field) \n",
    "                    next_layers.append(field) \n",
    "                # for tls, it does not have field like tls.xx, only has tls.xx.xx\n",
    "        else: \n",
    "            for prefix in layers: \n",
    "                # for prefix in layer_prefixes[layer]: \n",
    "                for field in fields: \n",
    "                    if field.startswith(prefix) and len(field.split('.')) - len_prefix == 1: \n",
    "                        if prefix not in layer_prefixes: \n",
    "                            layer_prefixes[prefix] = [] \n",
    "                            layer_prefixes[prefix].append(field) \n",
    "                        else: \n",
    "                            layer_prefixes[prefix].append(field) \n",
    "                    else: \n",
    "                        continue \n",
    "                    next_layers.append(field) \n",
    "            # len_prefix += 1 \n",
    "    init = False\n",
    "    return layer_prefixes, next_layers, init "
   ]
  },
  {
   "cell_type": "code",
   "execution_count": 24,
   "metadata": {},
   "outputs": [],
   "source": [
    "def find_fields_by_prefix(layers: list, layer_prefixes: dict, fields: list, init: bool): \n",
    "    next_layers = []\n",
    "    if len(layers) > 0: \n",
    "        if init: \n",
    "            for field in fields: \n",
    "                prefix = field.split('.')[0] \n",
    "                len_prefix = len(prefix.split('.')) \n",
    "                if prefix not in layers and len(field.split('.')) - len_prefix == 0: \n",
    "                    layer_prefixes['statistics'].append(field) \n",
    "                elif field.startswith(prefix) and len(field.split('.')) - len_prefix == 1: \n",
    "                    layer_prefixes[prefix].append(field) \n",
    "                    next_layers.append(field) \n",
    "                # for tls, it does not have field like tls.xx, only has tls.xx.xx \n",
    "            empty_layers = [] \n",
    "            extra_len_prefix = len_prefix\n",
    "            # check up the empty layers in initial, and increase the length of prefix. \n",
    "            # We hold an assumption that the emptiness means the length of prefix is not long enough\n",
    "            for key in layer_prefixes.keys(): \n",
    "                if len(layer_prefixes[key]) == 0: \n",
    "                    empty_layers.append(key) \n",
    "            while len(empty_layers) > 0: \n",
    "                extra_len_prefix += 1\n",
    "                for layer in empty_layers[:]: \n",
    "                    for field in fields: \n",
    "                        if field.startswith(layer): \n",
    "                            prefix = '.'.join(field.split('.')[:extra_len_prefix])\n",
    "                            if field.startswith(prefix) and len(field.split('.')) - extra_len_prefix == 1: \n",
    "                                layer_prefixes[layer].append(field) \n",
    "                                next_layers.append(field) \n",
    "                    empty_layers.remove(layer) \n",
    "                    \n",
    "        else: \n",
    "            for prefix in layers: \n",
    "                len_prefix = len(prefix.split('.')) \n",
    "                # for prefix in layer_prefixes[layer]: \n",
    "                for field in fields: \n",
    "                    if field.startswith(prefix) and len(field.split('.')) - len_prefix == 1: \n",
    "                        if prefix not in layer_prefixes: \n",
    "                            layer_prefixes[prefix] = [] \n",
    "                            layer_prefixes[prefix].append(field) \n",
    "                        else: \n",
    "                            layer_prefixes[prefix].append(field) \n",
    "                    else: \n",
    "                        continue \n",
    "                    next_layers.append(field) \n",
    "            # len_prefix += 1 \n",
    "    init = False\n",
    "    return layer_prefixes, next_layers, init "
   ]
  },
  {
   "cell_type": "code",
   "execution_count": 47,
   "metadata": {},
   "outputs": [],
   "source": [
    "def find_fields_by_prefix_logically(layers: list, layer_prefixes: dict, fields: list, len_prefix: int): \n",
    "    next_layers = [] \n",
    "    if len(layers) > 0: \n",
    "        for field in fields: \n",
    "            prefix = '.'.join(field.split('.')[:len_prefix]) \n",
    "            if prefix not in layers and len(field.split('.')) - len_prefix == 0: \n",
    "                layer_prefixes['statistics'].append(field) \n",
    "            elif field.startswith(prefix) and len(field.split('.')) - len_prefix == 1: # \n",
    "                if prefix not in layer_prefixes: \n",
    "                    layer_prefixes[prefix] = [] \n",
    "                layer_prefixes[prefix].append(field) \n",
    "                next_layers.append(field) \n",
    "            elif field.startswith(prefix) and len(field.split('.')) - len_prefix >= 2: \n",
    "                current_layer = '.'.join(field.split('.')[:len_prefix + 1]) \n",
    "                if prefix in layer_prefixes: \n",
    "                    if current_layer not in layer_prefixes[prefix]: \n",
    "                        layer_prefixes[prefix].append(current_layer) \n",
    "                        next_layers.append(current_layer) \n",
    "                else: # in order to handle the single structure fields like 'tls.ber.bitstring.padding'\n",
    "                    layer_prefixes[prefix] = [] \n",
    "                    layer_prefixes[prefix].append(current_layer) \n",
    "                    next_layers.append(current_layer) \n",
    "    return layer_prefixes, next_layers \n",
    "\n",
    "def protocol_tree(list_fields: list, list_layers = ['eth', 'ip', 'tcp', 'tls']): \n",
    "    \"\"\"\n",
    "    Find the hierarchy structure of protocols by handling the csv columns. \n",
    "    \"\"\"\n",
    "    dict_protocol_tree = {item: [] for item in list_layers} \n",
    "    dict_protocol_tree['statistics'] = [] \n",
    "    lens = [len(item.split('.')) for item in list_fields]\n",
    "    len_prefix = 1 # length of current prefix, i.e. eth \n",
    "    max_field_len = max(lens)\n",
    "    # init = True\n",
    "    while len_prefix < max_field_len: \n",
    "        dict_protocol_tree, list_layers = find_fields_by_prefix_logically(list_layers, dict_protocol_tree, list_fields, len_prefix) \n",
    "        len_prefix += 1\n",
    "    return dict_protocol_tree "
   ]
  },
  {
   "cell_type": "code",
   "execution_count": 42,
   "metadata": {},
   "outputs": [],
   "source": [
    "def protocol_tree(list_fields: list, list_layers = ['eth', 'ip', 'tcp', 'tls']): \n",
    "    \"\"\"\n",
    "    Find the hierarchy structure of protocols by handling the csv columns. \n",
    "    \"\"\"\n",
    "    dict_protocol_tree = {item: [] for item in list_layers} \n",
    "    dict_protocol_tree['statistics'] = [] \n",
    "    lens = [len(item.split('.')) for item in list_fields]\n",
    "    len_prefix = 1 # length of current prefix, i.e. eth \n",
    "    max_field_len = max(lens)\n",
    "    init = True\n",
    "    while len_prefix < max_field_len: \n",
    "        dict_protocol_tree, list_layers, init = find_fields_by_prefix(list_layers, dict_protocol_tree, list_fields, init) \n",
    "        len_prefix += 1\n",
    "    return dict_protocol_tree "
   ]
  },
  {
   "cell_type": "code",
   "execution_count": 48,
   "metadata": {},
   "outputs": [
    {
     "name": "stdout",
     "output_type": "stream",
     "text": [
      "{'eth': ['eth.dst', 'eth.src', 'eth.type'], 'ip': ['ip.version', 'ip.hdr_len', 'ip.dsfield', 'ip.len', 'ip.id', 'ip.flags', 'ip.frag_offset', 'ip.ttl', 'ip.proto', 'ip.checksum', 'ip.src', 'ip.dst'], 'tcp': ['tcp.srcport', 'tcp.dstport', 'tcp.stream', 'tcp.len', 'tcp.seq', 'tcp.seq_raw', 'tcp.ack', 'tcp.ack_raw', 'tcp.hdr_len', 'tcp.flags', 'tcp.window_size_value', 'tcp.window_size', 'tcp.checksum', 'tcp.urgent_pointer'], 'tls': [], 'statistics': ['frame_num', 'reassembled_segments'], 'eth.dst': ['eth.dst.lg', 'eth.dst.ig'], 'eth.src': ['eth.src.lg', 'eth.src.ig'], 'ip.dsfield': ['ip.dsfield.dscp', 'ip.dsfield.ecn'], 'ip.flags': ['ip.flags.rb', 'ip.flags.df', 'ip.flags.mf'], 'tcp.flags': ['tcp.flags.res', 'tcp.flags.ae', 'tcp.flags.cwr', 'tcp.flags.ece', 'tcp.flags.urg', 'tcp.flags.ack', 'tcp.flags.push', 'tcp.flags.reset', 'tcp.flags.syn', 'tcp.flags.fin', 'tcp.flags.str']}\n"
     ]
    }
   ],
   "source": [
    "dict_tree = protocol_tree(list_col_block) \n",
    "print(dict_tree)"
   ]
  },
  {
   "cell_type": "code",
   "execution_count": null,
   "metadata": {},
   "outputs": [],
   "source": [
    "from graphviz import Digraph\n",
    "\n",
    "def create_protocol_tree_graph(data, output_file='protocol_tree'):\n",
    "    # Initialize a directed graph\n",
    "    dot = Digraph(comment='Protocol Tree', format='png')\n",
    "    dot.attr(rankdir='TB')  # Top-to-bottom layout\n",
    "    dot.attr('node', shape='ellipse')  # Default node shape\n",
    "    dot.attr('edge', arrowhead='vee')\n",
    "\n",
    "    # Root node\n",
    "    root_id = 'root'\n",
    "    dot.node(root_id, 'Protocols', shape='box', style='filled', fillcolor='lightblue')\n",
    "\n",
    "    # Function to add nodes and edges recursively\n",
    "    def add_nodes(key, parent_id, prefix=''):\n",
    "        # Create a unique node ID\n",
    "        node_id = f\"{parent_id}_{key.replace('.', '_')}\"\n",
    "        label = key.split('.')[-1] if '.' in key else key  # Show only the last part for brevity\n",
    "        dot.node(node_id, label)\n",
    "\n",
    "        # Add edge from parent to this node\n",
    "        dot.edge(parent_id, node_id)\n",
    "\n",
    "        # If key has children (fields or nested keys)\n",
    "        if key in data:\n",
    "            for field in data[key]:\n",
    "                # Determine if field is a nested key\n",
    "                field_parts = field.split('.')\n",
    "                field_key = '.'.join(field_parts[:len(prefix.split('.')) + 1 if prefix else 1])\n",
    "                \n",
    "                if field_key in data:\n",
    "                    # Nested key, recurse\n",
    "                    add_nodes(field_key, node_id, field)\n",
    "                else:\n",
    "                    # Leaf node (field)\n",
    "                    field_id = f\"{node_id}_{field.replace('.', '_')}\"\n",
    "                    field_label = field.split('.')[-1]  # Show only the last part\n",
    "                    dot.node(field_id, field_label, shape='plaintext')\n",
    "                    dot.edge(node_id, field_id)\n",
    "\n",
    "    # Add top-level keys (eth, ip, tcp, tls, statistics)\n",
    "    for key in ['eth', 'ip', 'tcp', 'tls', 'statistics']:\n",
    "        if key in data:\n",
    "            add_nodes(key, root_id)\n",
    "\n",
    "    # Render and save the graph\n",
    "    dot.render(output_file, view=True, cleanup=True)\n",
    "    return dot \n",
    "\n",
    "create_protocol_tree_graph(dict_tree, 'protocol_tree')"
   ]
  },
  {
   "cell_type": "code",
   "execution_count": 38,
   "metadata": {},
   "outputs": [
    {
     "ename": "DuplicatedNodeIdError",
     "evalue": "Can't create node with ID 'root_eth_eth'",
     "output_type": "error",
     "traceback": [
      "\u001b[1;31m---------------------------------------------------------------------------\u001b[0m",
      "\u001b[1;31mDuplicatedNodeIdError\u001b[0m                     Traceback (most recent call last)",
      "Input \u001b[1;32mIn [38]\u001b[0m, in \u001b[0;36m<cell line: 41>\u001b[1;34m()\u001b[0m\n\u001b[0;32m     38\u001b[0m     tree\u001b[38;5;241m.\u001b[39mshow()\n\u001b[0;32m     39\u001b[0m     \u001b[38;5;28;01mreturn\u001b[39;00m tree\n\u001b[1;32m---> 41\u001b[0m \u001b[43mcreate_protocol_tree_text\u001b[49m\u001b[43m(\u001b[49m\u001b[43mdict_tree\u001b[49m\u001b[43m)\u001b[49m\n",
      "Input \u001b[1;32mIn [38]\u001b[0m, in \u001b[0;36mcreate_protocol_tree_text\u001b[1;34m(data)\u001b[0m\n\u001b[0;32m     33\u001b[0m \u001b[38;5;28;01mfor\u001b[39;00m key \u001b[38;5;129;01min\u001b[39;00m [\u001b[38;5;124m'\u001b[39m\u001b[38;5;124meth\u001b[39m\u001b[38;5;124m'\u001b[39m, \u001b[38;5;124m'\u001b[39m\u001b[38;5;124mip\u001b[39m\u001b[38;5;124m'\u001b[39m, \u001b[38;5;124m'\u001b[39m\u001b[38;5;124mtcp\u001b[39m\u001b[38;5;124m'\u001b[39m, \u001b[38;5;124m'\u001b[39m\u001b[38;5;124mtls\u001b[39m\u001b[38;5;124m'\u001b[39m, \u001b[38;5;124m'\u001b[39m\u001b[38;5;124mstatistics\u001b[39m\u001b[38;5;124m'\u001b[39m]:\n\u001b[0;32m     34\u001b[0m     \u001b[38;5;28;01mif\u001b[39;00m key \u001b[38;5;129;01min\u001b[39;00m data:\n\u001b[1;32m---> 35\u001b[0m         \u001b[43madd_nodes\u001b[49m\u001b[43m(\u001b[49m\u001b[43mkey\u001b[49m\u001b[43m,\u001b[49m\u001b[43m \u001b[49m\u001b[38;5;124;43m\"\u001b[39;49m\u001b[38;5;124;43mroot\u001b[39;49m\u001b[38;5;124;43m\"\u001b[39;49m\u001b[43m)\u001b[49m\n\u001b[0;32m     37\u001b[0m \u001b[38;5;66;03m# Display the tree\u001b[39;00m\n\u001b[0;32m     38\u001b[0m tree\u001b[38;5;241m.\u001b[39mshow()\n",
      "Input \u001b[1;32mIn [38]\u001b[0m, in \u001b[0;36mcreate_protocol_tree_text.<locals>.add_nodes\u001b[1;34m(key, parent_id, prefix)\u001b[0m\n\u001b[0;32m     21\u001b[0m field_key \u001b[38;5;241m=\u001b[39m \u001b[38;5;124m'\u001b[39m\u001b[38;5;124m.\u001b[39m\u001b[38;5;124m'\u001b[39m\u001b[38;5;241m.\u001b[39mjoin(field_parts[:\u001b[38;5;28mlen\u001b[39m(prefix\u001b[38;5;241m.\u001b[39msplit(\u001b[38;5;124m'\u001b[39m\u001b[38;5;124m.\u001b[39m\u001b[38;5;124m'\u001b[39m)) \u001b[38;5;241m+\u001b[39m \u001b[38;5;241m1\u001b[39m \u001b[38;5;28;01mif\u001b[39;00m prefix \u001b[38;5;28;01melse\u001b[39;00m \u001b[38;5;241m1\u001b[39m])\n\u001b[0;32m     23\u001b[0m \u001b[38;5;28;01mif\u001b[39;00m field_key \u001b[38;5;129;01min\u001b[39;00m data:\n\u001b[0;32m     24\u001b[0m     \u001b[38;5;66;03m# Nested key, recurse\u001b[39;00m\n\u001b[1;32m---> 25\u001b[0m     \u001b[43madd_nodes\u001b[49m\u001b[43m(\u001b[49m\u001b[43mfield_key\u001b[49m\u001b[43m,\u001b[49m\u001b[43m \u001b[49m\u001b[43mnode_id\u001b[49m\u001b[43m,\u001b[49m\u001b[43m \u001b[49m\u001b[43mfield\u001b[49m\u001b[43m)\u001b[49m\n\u001b[0;32m     26\u001b[0m \u001b[38;5;28;01melse\u001b[39;00m:\n\u001b[0;32m     27\u001b[0m     \u001b[38;5;66;03m# Leaf node (field)\u001b[39;00m\n\u001b[0;32m     28\u001b[0m     field_id \u001b[38;5;241m=\u001b[39m \u001b[38;5;124mf\u001b[39m\u001b[38;5;124m\"\u001b[39m\u001b[38;5;132;01m{\u001b[39;00mnode_id\u001b[38;5;132;01m}\u001b[39;00m\u001b[38;5;124m_\u001b[39m\u001b[38;5;132;01m{\u001b[39;00mfield\u001b[38;5;241m.\u001b[39mreplace(\u001b[38;5;124m'\u001b[39m\u001b[38;5;124m.\u001b[39m\u001b[38;5;124m'\u001b[39m, \u001b[38;5;124m'\u001b[39m\u001b[38;5;124m_\u001b[39m\u001b[38;5;124m'\u001b[39m)\u001b[38;5;132;01m}\u001b[39;00m\u001b[38;5;124m\"\u001b[39m\n",
      "Input \u001b[1;32mIn [38]\u001b[0m, in \u001b[0;36mcreate_protocol_tree_text.<locals>.add_nodes\u001b[1;34m(key, parent_id, prefix)\u001b[0m\n\u001b[0;32m     12\u001b[0m node_id \u001b[38;5;241m=\u001b[39m \u001b[38;5;124mf\u001b[39m\u001b[38;5;124m\"\u001b[39m\u001b[38;5;132;01m{\u001b[39;00mparent_id\u001b[38;5;132;01m}\u001b[39;00m\u001b[38;5;124m_\u001b[39m\u001b[38;5;132;01m{\u001b[39;00mkey\u001b[38;5;241m.\u001b[39mreplace(\u001b[38;5;124m'\u001b[39m\u001b[38;5;124m.\u001b[39m\u001b[38;5;124m'\u001b[39m, \u001b[38;5;124m'\u001b[39m\u001b[38;5;124m_\u001b[39m\u001b[38;5;124m'\u001b[39m)\u001b[38;5;132;01m}\u001b[39;00m\u001b[38;5;124m\"\u001b[39m\n\u001b[0;32m     13\u001b[0m label \u001b[38;5;241m=\u001b[39m key\u001b[38;5;241m.\u001b[39msplit(\u001b[38;5;124m'\u001b[39m\u001b[38;5;124m.\u001b[39m\u001b[38;5;124m'\u001b[39m)[\u001b[38;5;241m-\u001b[39m\u001b[38;5;241m1\u001b[39m] \u001b[38;5;28;01mif\u001b[39;00m \u001b[38;5;124m'\u001b[39m\u001b[38;5;124m.\u001b[39m\u001b[38;5;124m'\u001b[39m \u001b[38;5;129;01min\u001b[39;00m key \u001b[38;5;28;01melse\u001b[39;00m key  \u001b[38;5;66;03m# Show only the last part\u001b[39;00m\n\u001b[1;32m---> 14\u001b[0m \u001b[43mtree\u001b[49m\u001b[38;5;241;43m.\u001b[39;49m\u001b[43mcreate_node\u001b[49m\u001b[43m(\u001b[49m\u001b[43mlabel\u001b[49m\u001b[43m,\u001b[49m\u001b[43m \u001b[49m\u001b[43mnode_id\u001b[49m\u001b[43m,\u001b[49m\u001b[43m \u001b[49m\u001b[43mparent\u001b[49m\u001b[38;5;241;43m=\u001b[39;49m\u001b[43mparent_id\u001b[49m\u001b[43m)\u001b[49m\n\u001b[0;32m     16\u001b[0m \u001b[38;5;66;03m# If key has children\u001b[39;00m\n\u001b[0;32m     17\u001b[0m \u001b[38;5;28;01mif\u001b[39;00m key \u001b[38;5;129;01min\u001b[39;00m data:\n",
      "File \u001b[1;32md:\\Tools\\Developer\\Python\\Anaconda\\envs\\Pytorch_envs\\lib\\site-packages\\treelib\\tree.py:437\u001b[0m, in \u001b[0;36mTree.create_node\u001b[1;34m(self, tag, identifier, parent, data)\u001b[0m\n\u001b[0;32m    432\u001b[0m \u001b[38;5;124;03m\"\"\"\u001b[39;00m\n\u001b[0;32m    433\u001b[0m \u001b[38;5;124;03mCreate a child node for given @parent node. If ``identifier`` is absent,\u001b[39;00m\n\u001b[0;32m    434\u001b[0m \u001b[38;5;124;03ma UUID will be generated automatically.\u001b[39;00m\n\u001b[0;32m    435\u001b[0m \u001b[38;5;124;03m\"\"\"\u001b[39;00m\n\u001b[0;32m    436\u001b[0m node \u001b[38;5;241m=\u001b[39m \u001b[38;5;28mself\u001b[39m\u001b[38;5;241m.\u001b[39mnode_class(tag\u001b[38;5;241m=\u001b[39mtag, identifier\u001b[38;5;241m=\u001b[39midentifier, data\u001b[38;5;241m=\u001b[39mdata)\n\u001b[1;32m--> 437\u001b[0m \u001b[38;5;28;43mself\u001b[39;49m\u001b[38;5;241;43m.\u001b[39;49m\u001b[43madd_node\u001b[49m\u001b[43m(\u001b[49m\u001b[43mnode\u001b[49m\u001b[43m,\u001b[49m\u001b[43m \u001b[49m\u001b[43mparent\u001b[49m\u001b[43m)\u001b[49m\n\u001b[0;32m    438\u001b[0m \u001b[38;5;28;01mreturn\u001b[39;00m node\n",
      "File \u001b[1;32md:\\Tools\\Developer\\Python\\Anaconda\\envs\\Pytorch_envs\\lib\\site-packages\\treelib\\tree.py:351\u001b[0m, in \u001b[0;36mTree.add_node\u001b[1;34m(self, node, parent)\u001b[0m\n\u001b[0;32m    346\u001b[0m     \u001b[38;5;28;01mraise\u001b[39;00m \u001b[38;5;167;01mOSError\u001b[39;00m(\n\u001b[0;32m    347\u001b[0m         \u001b[38;5;124m\"\u001b[39m\u001b[38;5;124mFirst parameter must be object of \u001b[39m\u001b[38;5;132;01m{}\u001b[39;00m\u001b[38;5;124m\"\u001b[39m\u001b[38;5;241m.\u001b[39mformat(\u001b[38;5;28mself\u001b[39m\u001b[38;5;241m.\u001b[39mnode_class)\n\u001b[0;32m    348\u001b[0m     )\n\u001b[0;32m    350\u001b[0m \u001b[38;5;28;01mif\u001b[39;00m node\u001b[38;5;241m.\u001b[39midentifier \u001b[38;5;129;01min\u001b[39;00m \u001b[38;5;28mself\u001b[39m\u001b[38;5;241m.\u001b[39m_nodes:\n\u001b[1;32m--> 351\u001b[0m     \u001b[38;5;28;01mraise\u001b[39;00m DuplicatedNodeIdError(\n\u001b[0;32m    352\u001b[0m         \u001b[38;5;124m\"\u001b[39m\u001b[38;5;124mCan\u001b[39m\u001b[38;5;124m'\u001b[39m\u001b[38;5;124mt create node \u001b[39m\u001b[38;5;124m\"\u001b[39m \u001b[38;5;124m\"\u001b[39m\u001b[38;5;124mwith ID \u001b[39m\u001b[38;5;124m'\u001b[39m\u001b[38;5;132;01m%s\u001b[39;00m\u001b[38;5;124m'\u001b[39m\u001b[38;5;124m\"\u001b[39m \u001b[38;5;241m%\u001b[39m node\u001b[38;5;241m.\u001b[39midentifier\n\u001b[0;32m    353\u001b[0m     )\n\u001b[0;32m    355\u001b[0m pid \u001b[38;5;241m=\u001b[39m parent\u001b[38;5;241m.\u001b[39midentifier \u001b[38;5;28;01mif\u001b[39;00m \u001b[38;5;28misinstance\u001b[39m(parent, \u001b[38;5;28mself\u001b[39m\u001b[38;5;241m.\u001b[39mnode_class) \u001b[38;5;28;01melse\u001b[39;00m parent\n\u001b[0;32m    357\u001b[0m \u001b[38;5;28;01mif\u001b[39;00m pid \u001b[38;5;129;01mis\u001b[39;00m \u001b[38;5;28;01mNone\u001b[39;00m:\n",
      "\u001b[1;31mDuplicatedNodeIdError\u001b[0m: Can't create node with ID 'root_eth_eth'"
     ]
    }
   ],
   "source": [
    "from treelib import Node, Tree\n",
    "\n",
    "\n",
    "def create_protocol_tree_text(data):\n",
    "    # Initialize a tree\n",
    "    tree = Tree()\n",
    "    tree.create_node(\"Protocols\", \"root\")  # Root node\n",
    "\n",
    "    # Function to add nodes recursively\n",
    "    def add_nodes(key, parent_id, prefix=''):\n",
    "        # Add the current key as a node\n",
    "        node_id = f\"{parent_id}_{key.replace('.', '_')}\"\n",
    "        label = key.split('.')[-1] if '.' in key else key  # Show only the last part\n",
    "        tree.create_node(label, node_id, parent=parent_id)\n",
    "\n",
    "        # If key has children\n",
    "        if key in data:\n",
    "            for field in data[key]:\n",
    "                # Determine if field is a nested key\n",
    "                field_parts = field.split('.')\n",
    "                field_key = '.'.join(field_parts[:len(prefix.split('.')) + 1 if prefix else 1])\n",
    "                \n",
    "                if field_key in data:\n",
    "                    # Nested key, recurse\n",
    "                    add_nodes(field_key, node_id, field)\n",
    "                else:\n",
    "                    # Leaf node (field)\n",
    "                    field_id = f\"{node_id}_{field.replace('.', '_')}\"\n",
    "                    field_label = field.split('.')[-1]  # Show only the last part\n",
    "                    tree.create_node(field_label, field_id, parent=node_id)\n",
    "\n",
    "    # Add top-level keys\n",
    "    for key in ['eth', 'ip', 'tcp', 'tls', 'statistics']:\n",
    "        if key in data:\n",
    "            add_nodes(key, \"root\")\n",
    "\n",
    "    # Display the tree\n",
    "    tree.show()\n",
    "    return tree\n",
    "\n",
    "create_protocol_tree_text(dict_tree)"
   ]
  },
  {
   "cell_type": "code",
   "execution_count": 7,
   "metadata": {},
   "outputs": [
    {
     "name": "stdout",
     "output_type": "stream",
     "text": [
      "['frame_num']\n",
      "['eth', 'dst', 'ig']\n",
      "['eth', 'dst']\n",
      "False\n"
     ]
    }
   ],
   "source": [
    "test = 'frame_num' \n",
    "test1 = 'eth.dst.ig' \n",
    "test2 = 'eth.dst'\n",
    "a = test.split('.') \n",
    "b = test1.split('.') \n",
    "c = test2.split('.')\n",
    "print(a) \n",
    "print(b)\n",
    "print(c)\n",
    "print(c in b)"
   ]
  },
  {
   "cell_type": "code",
   "execution_count": null,
   "metadata": {},
   "outputs": [],
   "source": []
  },
  {
   "cell_type": "code",
   "execution_count": null,
   "metadata": {},
   "outputs": [],
   "source": [
    "def protocol_tree_extract(list_fields: list, list_layers = ['eth', 'ip', 'tcp', 'tls']): \n",
    "    dict_fields = {} \n",
    "    for layer in list_layers: \n",
    "        for field in list_fields: \n",
    "\n",
    "    for field in list_fields: \n",
    "        s_field = field.split('.') \n",
    "        if len(s_field) == 1 and s_field[0] not in list_layers: # statistical information, like frame_num, reassembled_info \n",
    "            dict_fields['statistics'].append(s_field) \n",
    "            \n",
    "        if s_field[0] in list_layers: # layer prefix \n",
    "            if s_field[0] not in dict_fields.keys(): \n",
    "                last_len = len(s_field) \n",
    "                dict_fields[s_field[0]].append(s_field) \n",
    "            \n",
    "\n",
    "    return "
   ]
  },
  {
   "cell_type": "code",
   "execution_count": 3,
   "metadata": {},
   "outputs": [],
   "source": [
    "all_nan_cols = df.columns[df.isna().all()] "
   ]
  },
  {
   "cell_type": "code",
   "execution_count": 6,
   "metadata": {},
   "outputs": [],
   "source": [
    "df_nonan = df.drop(columns=all_nan_cols)"
   ]
  },
  {
   "cell_type": "code",
   "execution_count": 2,
   "metadata": {},
   "outputs": [],
   "source": [
    "path_test_directory = './Data/Test/filter_nan' \n",
    "# path_tls_csv = os.path.join(path_test_directory, 'tls_test_01.pcapng.csv') \n",
    "# path_tls_reassemble_csv = os.path.join(path_test_directory, 'reassemble_tls_test_01.pcapng.csv') \n",
    "path_test_csv = os.path.join(path_test_directory, 'filter_nan_merge_tls_test_01.csv') "
   ]
  },
  {
   "cell_type": "code",
   "execution_count": 3,
   "metadata": {},
   "outputs": [
    {
     "data": {
      "text/plain": [
       "(1959, 190)"
      ]
     },
     "execution_count": 3,
     "metadata": {},
     "output_type": "execute_result"
    }
   ],
   "source": [
    "df = pd.read_csv(path_test_csv, index_col='frame_num') \n",
    "df.shape "
   ]
  },
  {
   "cell_type": "code",
   "execution_count": 4,
   "metadata": {},
   "outputs": [],
   "source": [
    "mask_df = df.notnull() "
   ]
  },
  {
   "cell_type": "code",
   "execution_count": 21,
   "metadata": {},
   "outputs": [],
   "source": [
    "dict_true = {} \n",
    "for col_num in range(mask_df.shape[1]): \n",
    "    list_true_indices = list(mask_df[mask_df.iloc[:, col_num]].index) \n",
    "    dict_true[col_num] = list_true_indices  \n",
    "\n",
    "# for col in mask_df.columns: \n",
    "#     list_true_indices = list(mask_df[mask_df.loc[:, col]].index) \n",
    "#     dict_true[col] = list_true_indices "
   ]
  },
  {
   "cell_type": "code",
   "execution_count": 22,
   "metadata": {},
   "outputs": [],
   "source": [
    "# continuous\n",
    "dict_block = {\n",
    "    'block': [], \n",
    "    'columns': [], \n",
    "    'rows': [] \n",
    "} \n",
    "\n",
    "block_flag = 0 \n",
    "last_key = 0\n",
    "last_value = dict_true[last_key] \n",
    "list_col = []\n",
    "for key, value in dict_true.items(): \n",
    "    if key == last_key: # init \n",
    "        dict_block['block'].append(block_flag) \n",
    "        list_col.append(key) \n",
    "        dict_block['columns'].append(list_col.copy()) \n",
    "        dict_block['rows'].append(dict_true[key]) \n",
    "    else: \n",
    "        if value == last_value: \n",
    "            dict_block['columns'][block_flag].append(key) \n",
    "        if value != last_value: \n",
    "            block_flag += 1 \n",
    "            dict_block['block'].append(block_flag) \n",
    "            list_col.clear() \n",
    "            list_col.append(key) \n",
    "            dict_block['columns'].append(list_col.copy()) \n",
    "            dict_block['rows'].append(dict_true[key]) \n",
    "            last_key = key \n",
    "            last_value =value \n"
   ]
  },
  {
   "cell_type": "code",
   "execution_count": 7,
   "metadata": {},
   "outputs": [],
   "source": [
    "df_block = pd.DataFrame(dict_block)"
   ]
  },
  {
   "cell_type": "code",
   "execution_count": 23,
   "metadata": {},
   "outputs": [
    {
     "name": "stderr",
     "output_type": "stream",
     "text": [
      "41it [00:00, 826.97it/s]\n"
     ]
    }
   ],
   "source": [
    "from tqdm import tqdm \n",
    "\n",
    "block_values = dict_block['block'] \n",
    "columns_values = dict_block['columns'] \n",
    "rows_values = dict_block['rows'] \n",
    "\n",
    "list_sub_df = []\n",
    "\n",
    "for block_name, columns, rows in tqdm(zip(block_values, columns_values, rows_values)): \n",
    "    subset_rows = df.loc[rows]\n",
    "    sub_df = subset_rows.iloc[:, columns]\n",
    "    list_sub_df.append(sub_df) "
   ]
  },
  {
   "cell_type": "code",
   "execution_count": 7,
   "metadata": {},
   "outputs": [],
   "source": [
    "dict_block = {\n",
    "    'block': [], \n",
    "    'columns': [], \n",
    "    'rows': [] \n",
    "} \n",
    "\n",
    "block_flag = 0 \n",
    "list_col = [] \n",
    "list_record_col = []\n",
    "for key, value in dict_true.items(): \n",
    "    if key not in list_record_col: \n",
    "        for ik, iv in dict_true.items(): \n",
    "            if iv == value: \n",
    "                if block_flag not in dict_block['block']: \n",
    "                    dict_block['block'].append(block_flag) \n",
    "                    dict_block['rows'].append(dict_true[key]) \n",
    "                list_col.append(ik) \n",
    "            if iv != value: \n",
    "                continue \n",
    "        dict_block['columns'].append(list_col.copy()) \n",
    "        list_record_col.extend(list_col.copy()) \n",
    "        list_col.clear()\n",
    "        block_flag += 1 "
   ]
  },
  {
   "cell_type": "code",
   "execution_count": null,
   "metadata": {},
   "outputs": [],
   "source": [
    "print(dict_block)"
   ]
  },
  {
   "cell_type": "code",
   "execution_count": 8,
   "metadata": {},
   "outputs": [],
   "source": [
    "df_block = pd.DataFrame(dict_block)"
   ]
  },
  {
   "cell_type": "code",
   "execution_count": 9,
   "metadata": {},
   "outputs": [],
   "source": [
    "true_indices = list(mask_df[mask_df['tls_handshake_server_point_len']].index) "
   ]
  },
  {
   "cell_type": "code",
   "execution_count": 6,
   "metadata": {},
   "outputs": [],
   "source": [
    "intesection_series = mask_df.all()"
   ]
  }
 ],
 "metadata": {
  "kernelspec": {
   "display_name": "Pytorch_env",
   "language": "python",
   "name": "python3"
  },
  "language_info": {
   "codemirror_mode": {
    "name": "ipython",
    "version": 3
   },
   "file_extension": ".py",
   "mimetype": "text/x-python",
   "name": "python",
   "nbconvert_exporter": "python",
   "pygments_lexer": "ipython3",
   "version": "0.0.0"
  }
 },
 "nbformat": 4,
 "nbformat_minor": 2
}
