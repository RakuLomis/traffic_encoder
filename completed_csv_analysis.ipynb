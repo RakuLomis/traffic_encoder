{
 "cells": [
  {
   "cell_type": "code",
   "execution_count": 1,
   "metadata": {},
   "outputs": [],
   "source": [
    "import pandas as pd \n",
    "import os"
   ]
  },
  {
   "cell_type": "code",
   "execution_count": 2,
   "metadata": {},
   "outputs": [],
   "source": [
    "csv_directory_merged = os.path.join('..', 'TrafficData', 'dataset_29_d1_csv_merged')\n",
    "csv_directory_merged_completed = os.path.join(csv_directory_merged, 'completeness')\n",
    "completed_csv_path = os.path.join(csv_directory_merged_completed, 'dataset_29_completed_label.csv')"
   ]
  },
  {
   "cell_type": "code",
   "execution_count": 3,
   "metadata": {},
   "outputs": [],
   "source": [
    "df = pd.read_csv(completed_csv_path, low_memory=False, dtype=str)"
   ]
  },
  {
   "cell_type": "code",
   "execution_count": 4,
   "metadata": {},
   "outputs": [],
   "source": [
    "no_nan_payload = df['tcp.payload'].dropna()"
   ]
  },
  {
   "cell_type": "code",
   "execution_count": 5,
   "metadata": {},
   "outputs": [],
   "source": [
    "from utils.dataframe_tools import protocol_tree\n",
    "\n",
    "protocol_tree = protocol_tree(df.columns.tolist())"
   ]
  },
  {
   "cell_type": "code",
   "execution_count": 6,
   "metadata": {},
   "outputs": [
    {
     "name": "stdout",
     "output_type": "stream",
     "text": [
      "{'eth': ['eth.dst', 'eth.src', 'eth.type', 'eth.padding', 'eth.trailer'], 'ip': ['ip.version', 'ip.hdr_len', 'ip.dsfield', 'ip.len', 'ip.id', 'ip.flags', 'ip.frag_offset', 'ip.ttl', 'ip.proto', 'ip.checksum', 'ip.src', 'ip.dst'], 'tcp': ['tcp.srcport', 'tcp.dstport', 'tcp.stream', 'tcp.len', 'tcp.seq', 'tcp.seq_raw', 'tcp.ack', 'tcp.ack_raw', 'tcp.hdr_len', 'tcp.flags', 'tcp.window_size_value', 'tcp.window_size', 'tcp.window_size_scalefactor', 'tcp.checksum', 'tcp.urgent_pointer', 'tcp.payload', 'tcp.options', 'tcp.option_kind', 'tcp.option_len', 'tcp.reassembled_segments', 'tcp.segment_data', 'tcp.pdu'], 'tls': ['tls.record', 'tls.handshake', 'tls.x509af', 'tls.x509if', 'tls.x509sat', 'tls.pkcs1', 'tls.x509ce', 'tls.ber', 'tls.pkix1implicit', 'tls.pkix1explicit', 'tls.logotypecertextn', 'tls.ocsp', 'tls.sct', 'tls.ns_cert_exts', 'tls.ns', 'tls.cms', 'tls.alert_message', 'tls.heartbeat_message', 'tls.ssl2', 'tls.segment'], 'statistics': ['frame_num', 'label'], 'eth.dst': ['eth.dst.lg', 'eth.dst.ig'], 'eth.src': ['eth.src.lg', 'eth.src.ig'], 'ip.dsfield': ['ip.dsfield.dscp', 'ip.dsfield.ecn'], 'ip.flags': ['ip.flags.rb', 'ip.flags.df', 'ip.flags.mf'], 'tcp.flags': ['tcp.flags.res', 'tcp.flags.ae', 'tcp.flags.cwr', 'tcp.flags.ece', 'tcp.flags.urg', 'tcp.flags.ack', 'tcp.flags.push', 'tcp.flags.reset', 'tcp.flags.syn', 'tcp.flags.fin', 'tcp.flags.str'], 'tls.record': ['tls.record.content_type', 'tls.record.version', 'tls.record.length', 'tls.record.is_escape', 'tls.record.padding_length'], 'tcp.options': ['tcp.options.mss', 'tcp.options.mss_val', 'tcp.options.nop', 'tcp.options.wscale', 'tcp.options.sack_perm', 'tcp.options.eol', 'tcp.options.sack', 'tcp.options.sack_le', 'tcp.options.sack_re', 'tcp.options.timestamp'], 'tls.handshake': ['tls.handshake.type', 'tls.handshake.length', 'tls.handshake.version', 'tls.handshake.random_time', 'tls.handshake.random_bytes', 'tls.handshake.session_id_length', 'tls.handshake.cipher_suites_length', 'tls.handshake.ciphersuite', 'tls.handshake.comp_methods_length', 'tls.handshake.comp_method', 'tls.handshake.extensions_length', 'tls.handshake.extension', 'tls.handshake.extensions_ec_point_formats_length', 'tls.handshake.extensions_ec_point_format', 'tls.handshake.extensions_supported_groups_length', 'tls.handshake.extensions_supported_group', 'tls.handshake.sig_hash_alg_len', 'tls.handshake.sig_hash_alg', 'tls.handshake.sig_hash_hash', 'tls.handshake.sig_hash_sig', 'tls.handshake.extensions_reneg_info_len', 'tls.handshake.certificates_length', 'tls.handshake.certificate_length', 'tls.handshake.epms_len', 'tls.handshake.session_ticket_lifetime_hint', 'tls.handshake.session_ticket_length', 'tls.handshake.extensions_server_name_list_len', 'tls.handshake.extensions_server_name_type', 'tls.handshake.extensions_server_name_len', 'tls.handshake.extensions_server_name', 'tls.handshake.extensions_status_request_type', 'tls.handshake.extensions_status_request_responder_ids_len', 'tls.handshake.extensions_status_request_exts_len', 'tls.handshake.extensions_alpn_len', 'tls.handshake.extensions_alpn_str_len', 'tls.handshake.extensions_alpn_str', 'tls.handshake.server_curve_type', 'tls.handshake.server_named_curve', 'tls.handshake.server_point_len', 'tls.handshake.sig_len', 'tls.handshake.client_point_len', 'tls.handshake.extensions_npn_str_len', 'tls.handshake.extensions_npn', 'tls.handshake.ocsp_response_len', 'tls.handshake.p_len', 'tls.handshake.g_len', 'tls.handshake.g', 'tls.handshake.ys_len', 'tls.handshake.yc_len', 'tls.handshake.clear_key_length', 'tls.handshake.encrypted_key_length', 'tls.handshake.key_arg_length', 'tls.handshake.extensions_padding_data'], 'tls.x509af': ['tls.x509af.version', 'tls.x509af.serialNumber', 'tls.x509af.algorithm', 'tls.x509af.notBefore', 'tls.x509af.utcTime', 'tls.x509af.notAfter', 'tls.x509af.extension', 'tls.x509af.critical', 'tls.x509af.subject', 'tls.x509af.rdnSequence'], 'tls.x509if': ['tls.x509if.RDNSequence_item', 'tls.x509if.oid'], 'tls.x509sat': ['tls.x509sat.DirectoryString', 'tls.x509sat.printableString', 'tls.x509sat.teletexString', 'tls.x509sat.CountryName', 'tls.x509sat.IA5String', 'tls.x509sat.uTF8String', 'tls.x509sat.Integer', 'tls.x509sat.OctetString', 'tls.x509sat.BMPString'], 'tls.pkcs1': ['tls.pkcs1.publicExponent', 'tls.pkcs1.ECParameters', 'tls.pkcs1.namedCurve'], 'tls.x509ce': ['tls.x509ce.SubjectKeyIdentifier', 'tls.x509ce.keyIdentifier', 'tls.x509ce.authorityCertSerialNumber', 'tls.x509ce.cA', 'tls.x509ce.KeyPurposeIDs', 'tls.x509ce.KeyPurposeId', 'tls.x509ce.dNSName', 'tls.x509ce.KeyUsage', 'tls.x509ce.uniformResourceIdentifier', 'tls.x509ce.CertificatePoliciesSyntax', 'tls.x509ce.policyIdentifier', 'tls.x509ce.pathLenConstraint', 'tls.x509ce.id', 'tls.x509ce.GeneralNames', 'tls.x509ce.GeneralName', 'tls.x509ce.distributionPoint', 'tls.x509ce.fullName', 'tls.x509ce.directoryName', 'tls.x509ce.templateMajorVersion', 'tls.x509ce.templateMinorVersion'], 'tls.ber': ['tls.ber.bitstring'], 'tls.pkix1implicit': ['tls.pkix1implicit.accessMethod', 'tls.pkix1implicit.accessLocation', 'tls.pkix1implicit.explicitText', 'tls.pkix1implicit.visibleString', 'tls.pkix1implicit.organization', 'tls.pkix1implicit.ia5String', 'tls.pkix1implicit.noticeNumbers', 'tls.pkix1implicit.noticeNumbers_item', 'tls.pkix1implicit.utf8String'], 'tls.pkix1explicit': ['tls.pkix1explicit.DirectoryString', 'tls.pkix1explicit.id'], 'tls.logotypecertextn': ['tls.logotypecertextn.mediaType', 'tls.logotypecertextn.hashValue'], 'tls.ocsp': ['tls.ocsp.responseStatus', 'tls.ocsp.responseType', 'tls.ocsp.responderID', 'tls.ocsp.byKey', 'tls.ocsp.producedAt', 'tls.ocsp.issuerNameHash', 'tls.ocsp.issuerKeyHash', 'tls.ocsp.serialNumber', 'tls.ocsp.thisUpdate', 'tls.ocsp.nextUpdate', 'tls.ocsp.ArchiveCutoff'], 'tcp.pdu': ['tcp.pdu.size'], 'tls.sct': ['tls.sct.scts_length', 'tls.sct.sct_length', 'tls.sct.sct_version', 'tls.sct.sct_timestamp', 'tls.sct.sct_extensions_length', 'tls.sct.sct_signature_length'], 'tls.ns_cert_exts': ['tls.ns_cert_exts.CertType'], 'tls.ns': ['tls.ns.cert'], 'tls.cms': ['tls.cms.attrType', 'tls.cms.RC2CBCParameters', 'tls.cms.rc2WrapParameter'], 'tls.alert_message': ['tls.alert_message.level', 'tls.alert_message.desc'], 'tls.heartbeat_message': ['tls.heartbeat_message.type', 'tls.heartbeat_message.payload_length'], 'tls.ssl2': ['tls.ssl2.handshake'], 'tls.segment': ['tls.segment.data'], 'tcp.options.wscale': ['tcp.options.wscale.shift', 'tcp.options.wscale.multiplier'], 'tls.handshake.extension': ['tls.handshake.extension.type', 'tls.handshake.extension.len'], 'tls.x509af.algorithm': ['tls.x509af.algorithm.id'], 'tls.x509af.extension': ['tls.x509af.extension.id'], 'tls.ber.bitstring': ['tls.ber.bitstring.padding'], 'tcp.options.sack': ['tcp.options.sack.dsack_le', 'tcp.options.sack.dsack_re'], 'tls.x509ce.KeyUsage': ['tls.x509ce.KeyUsage.digitalSignature', 'tls.x509ce.KeyUsage.contentCommitment', 'tls.x509ce.KeyUsage.keyEncipherment', 'tls.x509ce.KeyUsage.dataEncipherment', 'tls.x509ce.KeyUsage.keyAgreement', 'tls.x509ce.KeyUsage.keyCertSign', 'tls.x509ce.KeyUsage.cRLSign', 'tls.x509ce.KeyUsage.encipherOnly', 'tls.x509ce.KeyUsage.decipherOnly'], 'tcp.options.timestamp': ['tcp.options.timestamp.tsval', 'tcp.options.timestamp.tsecr'], 'tls.ocsp.responseType': ['tls.ocsp.responseType.id'], 'tls.ns.cert': ['tls.ns.cert.exts'], 'tls.ssl2.handshake': ['tls.ssl2.handshake.type', 'tls.ssl2.handshake.cipherspec'], 'tls.ns.cert.exts': ['tls.ns.cert.exts.CertType'], 'tls.ns.cert.exts.CertType': ['tls.ns.cert.exts.CertType.ssl', 'tls.ns.cert.exts.CertType.smime', 'tls.ns.cert.exts.CertType.object', 'tls.ns.cert.exts.CertType.reserved'], 'tls.ns.cert.exts.CertType.ssl': ['tls.ns.cert.exts.CertType.ssl.client', 'tls.ns.cert.exts.CertType.ssl.server', 'tls.ns.cert.exts.CertType.ssl.ca'], 'tls.ns.cert.exts.CertType.object': ['tls.ns.cert.exts.CertType.object.signing'], 'tls.ns.cert.exts.CertType.reserved': ['tls.ns.cert.exts.CertType.reserved.for'], 'tls.ns.cert.exts.CertType.smime': ['tls.ns.cert.exts.CertType.smime.ca'], 'tls.ns.cert.exts.CertType.reserved.for': ['tls.ns.cert.exts.CertType.reserved.for.future'], 'tls.ns.cert.exts.CertType.object.signing': ['tls.ns.cert.exts.CertType.object.signing.ca'], 'tls.ns.cert.exts.CertType.reserved.for.future': ['tls.ns.cert.exts.CertType.reserved.for.future.use']}\n"
     ]
    }
   ],
   "source": [
    "print(protocol_tree)"
   ]
  }
 ],
 "metadata": {
  "kernelspec": {
   "display_name": "Pytorch_envs",
   "language": "python",
   "name": "python3"
  },
  "language_info": {
   "codemirror_mode": {
    "name": "ipython",
    "version": 3
   },
   "file_extension": ".py",
   "mimetype": "text/x-python",
   "name": "python",
   "nbconvert_exporter": "python",
   "pygments_lexer": "ipython3",
   "version": "3.9.12"
  }
 },
 "nbformat": 4,
 "nbformat_minor": 2
}
